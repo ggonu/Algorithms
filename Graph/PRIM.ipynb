{
 "cells": [
  {
   "cell_type": "code",
   "execution_count": 3,
   "metadata": {},
   "outputs": [],
   "source": [
    "def extract_min(Q, d):\n",
    "    min_vertex = None\n",
    "    min_distance = float('inf')\n",
    "    for vertex in Q:\n",
    "        if d[vertex] < min_distance:\n",
    "            min_vertex = vertex\n",
    "            min_distance = d[vertex]\n",
    "    return min_vertex"
   ]
  },
  {
   "cell_type": "code",
   "execution_count": 4,
   "metadata": {},
   "outputs": [],
   "source": [
    "def prim(graph, r):\n",
    "    S = set()  # Set of vertex of MST\n",
    "    d = {u: float('inf') for u in graph}  # Distance from start point to each vertex\n",
    "    tree = {u: None for u in graph}  # The edge of the minimum spanning tree\n",
    "\n",
    "    # The distance from the starting point is zero\n",
    "    d[r] = 0\n",
    "\n",
    "    while S != set(graph):\n",
    "        # Select the nearest vertex among the vertices outside the current tree\n",
    "        u = extract_min(set(graph) - S, d)\n",
    "        S.add(u)\n",
    "\n",
    "        for v in graph[u]:\n",
    "            if v not in S and graph[u][v] < d[v]:\n",
    "                d[v] = graph[u][v]\n",
    "                tree[v] = u\n",
    "\n",
    "    return tree"
   ]
  },
  {
   "cell_type": "code",
   "execution_count": 5,
   "metadata": {},
   "outputs": [
    {
     "name": "stdout",
     "output_type": "stream",
     "text": [
      "Edge information of the MST: {'1': None, '2': '1', '3': '2', '4': '3', '5': '1', '6': '1', '7': '5'}\n"
     ]
    }
   ],
   "source": [
    "# Graph representation with adjacency list\n",
    "graph = {\n",
    "    '1': {'2': 11, '5': 9, '6': 8},\n",
    "    '2': {'1': 11, '3': 8, '5': 13},\n",
    "    '3': {'2': 8, '4': 7},\n",
    "    '4': {'3': 7, '5': 12},\n",
    "    '5': {'1': 9, '2': 13, '4': 12, '7': 5},\n",
    "    '6': {'1': 8, '7': 10},\n",
    "    '7': {'5': 8, '6': 10}\n",
    "}\n",
    "\n",
    "start_vertex = '1'  # Select a start vertex\n",
    "result_tree = prim(graph, start_vertex)\n",
    "print(\"Edge information of the MST:\", result_tree)"
   ]
  }
 ],
 "metadata": {
  "kernelspec": {
   "display_name": "Python 3.8 (tensorflow-gpu",
   "language": "python",
   "name": "tensorflow-gpu"
  },
  "language_info": {
   "codemirror_mode": {
    "name": "ipython",
    "version": 3
   },
   "file_extension": ".py",
   "mimetype": "text/x-python",
   "name": "python",
   "nbconvert_exporter": "python",
   "pygments_lexer": "ipython3",
   "version": "3.8.18"
  }
 },
 "nbformat": 4,
 "nbformat_minor": 2
}
