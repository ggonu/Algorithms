{
 "cells": [
  {
   "cell_type": "code",
   "execution_count": 1,
   "metadata": {},
   "outputs": [],
   "source": [
    "# Depth First Search\n",
    "\n",
    "def DFS(graph, start, visited = []):\n",
    "    visited.append(start)\n",
    "    print(visited)\n",
    "\n",
    "    for x in graph[start]:\n",
    "        if x not in visited:\n",
    "            DFS(graph=graph, start=x, visited=visited)\n",
    "    return visited"
   ]
  },
  {
   "cell_type": "code",
   "execution_count": 7,
   "metadata": {},
   "outputs": [],
   "source": [
    "Graph = {'1':['2', '6', '8'],\n",
    "         '2':['3', '5', '6'],\n",
    "         '3':['2', '4', '5'],\n",
    "         '4':['3', '5'],\n",
    "         '5':['2', '3', '4'],\n",
    "         '6':['1', '2', '7', '8'],\n",
    "         '7':['6'],\n",
    "         '8':['1', '6']\n",
    "         }"
   ]
  },
  {
   "cell_type": "code",
   "execution_count": 8,
   "metadata": {},
   "outputs": [
    {
     "name": "stdout",
     "output_type": "stream",
     "text": [
      "['1']\n",
      "['1', '2']\n",
      "['1', '2', '3']\n",
      "['1', '2', '3', '4']\n",
      "['1', '2', '3', '4', '5']\n",
      "['1', '2', '3', '4', '5', '6']\n",
      "['1', '2', '3', '4', '5', '6', '7']\n",
      "['1', '2', '3', '4', '5', '6', '7', '8']\n",
      "['1', '2', '3', '4', '5', '6', '7', '8']\n"
     ]
    }
   ],
   "source": [
    "print(DFS(Graph, start = '1'))"
   ]
  }
 ],
 "metadata": {
  "kernelspec": {
   "display_name": "Python 3.8 (tensorflow-gpu",
   "language": "python",
   "name": "tensorflow-gpu"
  },
  "language_info": {
   "codemirror_mode": {
    "name": "ipython",
    "version": 3
   },
   "file_extension": ".py",
   "mimetype": "text/x-python",
   "name": "python",
   "nbconvert_exporter": "python",
   "pygments_lexer": "ipython3",
   "version": "3.8.18"
  }
 },
 "nbformat": 4,
 "nbformat_minor": 2
}
