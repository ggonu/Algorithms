{
 "cells": [
  {
   "cell_type": "code",
   "execution_count": 7,
   "metadata": {},
   "outputs": [],
   "source": [
    "# Topological sort2\n",
    "# Sort all vertices in a cycle-free directed graph G=(V, E)\n",
    "# If edge (i, j) exists, vertex i is located before j in the sorting result\n",
    "def TOPOLOGICAL_SORT1(Graph):\n",
    "    indegree = {vertex: 0 for vertex in Graph}\n",
    "    for vertex in Graph:\n",
    "        for neighbor in Graph[vertex]:\n",
    "            indegree[neighbor] += 1\n",
    "\n",
    "    n = len(Graph)\n",
    "    result = []\n",
    "    for _ in range(n):\n",
    "        u = None\n",
    "        for vertex in Graph:\n",
    "            u = vertex\n",
    "            break\n",
    "        if u is None:\n",
    "            return None\n",
    "    \n",
    "        result.append(u)\n",
    "\n",
    "        for neighbor in Graph[u]:\n",
    "            indegree[neighbor] -= 1\n",
    "        del Graph[u]\n",
    "    return result"
   ]
  },
  {
   "cell_type": "code",
   "execution_count": 14,
   "metadata": {},
   "outputs": [],
   "source": [
    "# Graph representation with adjacency list\n",
    "graph = {\n",
    "    '냄비에 물 붓기':['점화'],\n",
    "    '점화':['라면 넣기', '수프 넣기', '계란 넣기'],\n",
    "    '라면 넣기':['계란 넣기'],\n",
    "    '수프 넣기':['계란 넣기'],\n",
    "    '라면 봉지 뜯기':['라면 넣기', '수프 넣기'],\n",
    "    '계란 넣기':[]\n",
    "}"
   ]
  },
  {
   "cell_type": "code",
   "execution_count": 15,
   "metadata": {},
   "outputs": [
    {
     "name": "stdout",
     "output_type": "stream",
     "text": [
      "['냄비에 물 붓기', '점화', '라면 넣기', '수프 넣기', '라면 봉지 뜯기', '계란 넣기']\n"
     ]
    }
   ],
   "source": [
    "result = TOPOLOGICAL_SORT1(graph)\n",
    "\n",
    "print(result)"
   ]
  }
 ],
 "metadata": {
  "kernelspec": {
   "display_name": "Python 3.8 (tensorflow-gpu",
   "language": "python",
   "name": "tensorflow-gpu"
  },
  "language_info": {
   "codemirror_mode": {
    "name": "ipython",
    "version": 3
   },
   "file_extension": ".py",
   "mimetype": "text/x-python",
   "name": "python",
   "nbconvert_exporter": "python",
   "pygments_lexer": "ipython3",
   "version": "3.8.18"
  }
 },
 "nbformat": 4,
 "nbformat_minor": 2
}
