{
 "cells": [
  {
   "cell_type": "code",
   "execution_count": 49,
   "metadata": {},
   "outputs": [],
   "source": [
    "# Topological sort2\n",
    "# Sort all vertices in a cycle-free directed graph G=(V, E)\n",
    "# If edge (i, j) exists, vertex i is located before j in the sorting result\n",
    "def DFS(graph, vertex, visited):\n",
    "    visited.append(vertex)\n",
    "    print(visited)\n",
    "\n",
    "    for x in graph[vertex]:\n",
    "        if x not in visited:\n",
    "            DFS(graph, x, visited)"
   ]
  },
  {
   "cell_type": "code",
   "execution_count": 44,
   "metadata": {},
   "outputs": [],
   "source": [
    "def TOPOLOGICAL_SORT2(Graph):\n",
    "    visited = []\n",
    "\n",
    "    for vertex in Graph:\n",
    "        if vertex not in visited:\n",
    "            DFS(Graph, vertex, visited)\n",
    "\n",
    "    return visited[::-1]\n"
   ]
  },
  {
   "cell_type": "code",
   "execution_count": 45,
   "metadata": {},
   "outputs": [],
   "source": [
    "# Graph representation with adjacency list\n",
    "graph = {\n",
    "    '냄비에 물 붓기':['점화'],\n",
    "    '점화':['라면 넣기', '수프 넣기', '계란 넣기'],\n",
    "    '라면 넣기':['계란 넣기'],\n",
    "    '수프 넣기':['계란 넣기'],\n",
    "    '라면 봉지 뜯기':['라면 넣기', '수프 넣기'],\n",
    "    '계란 넣기':[]\n",
    "}"
   ]
  },
  {
   "cell_type": "code",
   "execution_count": 48,
   "metadata": {},
   "outputs": [
    {
     "name": "stdout",
     "output_type": "stream",
     "text": [
      "['냄비에 물 붓기']\n",
      "['냄비에 물 붓기', '점화']\n",
      "['냄비에 물 붓기', '점화', '라면 넣기']\n",
      "['냄비에 물 붓기', '점화', '라면 넣기', '계란 넣기']\n",
      "['냄비에 물 붓기', '점화', '라면 넣기', '계란 넣기', '수프 넣기']\n",
      "['냄비에 물 붓기', '점화', '라면 넣기', '계란 넣기', '수프 넣기', '라면 봉지 뜯기']\n",
      "['라면 봉지 뜯기', '수프 넣기', '계란 넣기', '라면 넣기', '점화', '냄비에 물 붓기']\n"
     ]
    }
   ],
   "source": [
    "result = TOPOLOGICAL_SORT2(graph)\n",
    "\n",
    "print(result)"
   ]
  }
 ],
 "metadata": {
  "kernelspec": {
   "display_name": "Python 3.8 (tensorflow-gpu",
   "language": "python",
   "name": "tensorflow-gpu"
  },
  "language_info": {
   "codemirror_mode": {
    "name": "ipython",
    "version": 3
   },
   "file_extension": ".py",
   "mimetype": "text/x-python",
   "name": "python",
   "nbconvert_exporter": "python",
   "pygments_lexer": "ipython3",
   "version": "3.8.18"
  }
 },
 "nbformat": 4,
 "nbformat_minor": 2
}
